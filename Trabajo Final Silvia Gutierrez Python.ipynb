{
 "cells": [
  {
   "cell_type": "markdown",
   "id": "eaebb484",
   "metadata": {},
   "source": [
    "# TRABAJO DE PYTHON\n",
    "\n",
    "### Este trabajo cuenta el 30% de la nota. \n",
    "\n",
    "### Resuelve los siguientes ejercicios en Python\n",
    "\n",
    "#### Utiliza tantas celdas de código como necesites"
   ]
  },
  {
   "cell_type": "markdown",
   "id": "98d4d480",
   "metadata": {},
   "source": [
    "#### 1.- Carga el archivo *\"archivo.txt\"* en este Jupyter Notebook y guarda su contenido en una lista. (1 pto)"
   ]
  },
  {
   "cell_type": "code",
   "execution_count": 65,
   "id": "f6b21b23",
   "metadata": {},
   "outputs": [
    {
     "name": "stdout",
     "output_type": "stream",
     "text": [
      "['>CP043953.1 Acinetobacter baumannii strain K09-14 chromosome, complete genome\\n', 'ATGCTTTGGACAGACTGCTTAACTCGCTTGCGACAAGAGCTCTCTGATAACGTCTTTGCGATGTGGATTCGCCCTTTAGTAGCTGAAGAAGTAGAGGGGATACTACGTCTCTATGCTCCTAATCCTTATTGGACGCGTTATATTCAAGAGAATCATTTAGAGTTAATTTCTATATTGGCTGAACAATTGTCAGAAGGGCGGGTGCGTCAGGTTGAAATCTTGGTAGATTCTCGTCCTGGTAGTATTTTGTCTTCTAGTGAACAGCCTGCAACAACTACAGCAGCTTTACAAACTGCCCCTATACCTCAACCTGCTAAGGTTAAAAGAGAACCGGAACCTGTTGCTAATACTGCAGTTAGTTCTAAGAGTTCAAAAAAGAAACTATTAAATCCACAATTTACTTTTTCACTATTTGTTGAAGGCCGTTCTAACCAAATGGCAGCAGAAACCTGTAGAAAAGTATTAACACAGTTAGGTGCTTCTCAACATAACCCTTTGTTTTTATATGGTCCGACAGGTCTAGGTAAGACTCACTTAATGCAAGCAGTTGGTAATGCCCTACTGCAAGCGAAGCCGAATGCAAGAGTCATGTATATGACTTCAGAAAGTTTTGTACAAGATTTTGTGAGCTCATTACAAAAAGGAAAGGTAGAAGAGTTTAAGAAAAATTGCCGTTCTTTAGACTTGTTATTAGTAGATGATATTCATCTTTTGGCAGGAAAAGAAGCAAGTCTCGTTGAATTCTTCTATACATTTAATGCCTTACTTGATGAATCTAAACAAATTATTTTAACGTCTGATCGATATCCTAAAGAATTAACAGAACTTGATCCTCGATTGGTTTCTCGTTTTTCCTGGGGGCTATCAGTAGGTGTTGAACCACCTGATATTGAAACTCGAATCGAAATTCTGCTTAAAAAAGCTGAAAATAGTGGCGTTGATTTACCTAGAAACTGTGCGTTGTTTATTGCCCAACAAGTCGTAGCGAACGTACGTGAACTTGAGGGCGCACTGAATAAAGTTGTCGCAATTTCACGTTTTAAAGGTGCTCCAATTGACCTGGATGTCGTACGGGAATCTTTAAAAGATGTTTTAGCGATCCGTGCTCGTACAATTAGTGTAGAAAATATCCAGCGTGTAGTGAGTGAATATTTCCGAATTCCATTAAAAGAGCTGGTAGGTCCAAAGCGTACCCGAATTTATGCTCGACCACGTCAGTTGGCGATGGGGCTTGCCCGTGAATTAACGGGGGATAGTTTTCCTGAAATTGGAATGGCTTTTGGTGGGCGTGATCACAGTACAGTGATGCATGCTTGTGAAAAAGTCGTC']\n"
     ]
    }
   ],
   "source": [
    "archivo = open('archivo (1).txt')\n",
    "contenido = archivo.readlines()  \n",
    "archivo.close() \n",
    "\n",
    "\n",
    "print(contenido)\n"
   ]
  },
  {
   "cell_type": "markdown",
   "id": "400fa3f1",
   "metadata": {},
   "source": [
    "#### 2.- Muestre el encabezado y la secuencia y guarde cada uno en variables separadas. Elimine el elemento \"\\n\" del encabezado con replace(). ¿Cual es la longitud de la secuencia?. (1 pto)"
   ]
  },
  {
   "cell_type": "code",
   "execution_count": 67,
   "id": "154b42b2",
   "metadata": {},
   "outputs": [
    {
     "name": "stdout",
     "output_type": "stream",
     "text": [
      "Encabezado: >CP043953.1 Acinetobacter baumannii strain K09-14 chromosome, complete genome\n",
      "Longitud de la secuencia: 1329\n"
     ]
    }
   ],
   "source": [
    "encabezado = contenido[0].strip()\n",
    "secuencia = ''.join(line.strip() for line in contenido[1:])\n",
    "print(f\"Encabezado: {encabezado}\")\n",
    "print(f\"Longitud de la secuencia: {len(secuencia)}\")"
   ]
  },
  {
   "cell_type": "markdown",
   "id": "36b8c00d",
   "metadata": {},
   "source": [
    "#### 3.- Para el encabezado, extrae empleando expresiones regulares el identificador. (1pto)"
   ]
  },
  {
   "cell_type": "code",
   "execution_count": 69,
   "id": "d845bb81",
   "metadata": {},
   "outputs": [
    {
     "name": "stdout",
     "output_type": "stream",
     "text": [
      "Identificador: CP043953.1\n"
     ]
    }
   ],
   "source": [
    "import re\n",
    "\n",
    "match = re.search(r'>(\\S+)', encabezado)\n",
    "if match:\n",
    "    identificador = match.group(1)\n",
    "    print(f\"Identificador: {identificador}\")\n",
    "else:\n",
    "    print(\"No se encontró identificador.\")\n"
   ]
  },
  {
   "cell_type": "markdown",
   "id": "f38fdda0",
   "metadata": {},
   "source": [
    "#### 4.- Para la secuencia, haz un algoritmo que vaya sumando el numero de adeninas (A) y timinas (T) segun vaya iterando por la secuencia. El numero total de adeninas y timinas deberia guardarse en una misma variable. (1 pto)"
   ]
  },
  {
   "cell_type": "code",
   "execution_count": 71,
   "id": "2914b1f2",
   "metadata": {},
   "outputs": [
    {
     "name": "stdout",
     "output_type": "stream",
     "text": [
      "Conteo total de adeninas y timinas: 793\n"
     ]
    }
   ],
   "source": [
    "conteo_at = sum(1 for base in secuencia if base in ['A', 'T'])\n",
    "print(f\"Conteo total de adeninas y timinas: {conteo_at}\")\n"
   ]
  },
  {
   "cell_type": "markdown",
   "id": "98096e73",
   "metadata": {},
   "source": [
    "#### 5.- Escribe una funcion que calcule el porcentaje de un nucleotido de una secuencia y que examine la entrada para comprobar que se ha introducido un nucleotido de los cuatro tipos que hay (A, T, G o C). Devuelve el resultado con un decimal. Por ultimo comprueba que tu codigo funciona con las siguientes *assertions*. (1 pto)"
   ]
  },
  {
   "cell_type": "code",
   "execution_count": null,
   "id": "df4b86c4",
   "metadata": {},
   "outputs": [],
   "source": [
    "assert calculo_porcentaje(\"A\",secuencia) == 29.2\n",
    "assert calculo_porcentaje(\"T\",secuencia) == 30.5\n",
    "assert calculo_porcentaje(\"G\",secuencia) == 22.0\n",
    "assert calculo_porcentaje(\"C\",secuencia) == 18.3"
   ]
  },
  {
   "cell_type": "code",
   "execution_count": 73,
   "id": "e7c0d131-28f9-4e30-9eed-137744b98557",
   "metadata": {},
   "outputs": [
    {
     "name": "stdout",
     "output_type": "stream",
     "text": [
      "Porcentaje calculado correctamente.\n"
     ]
    }
   ],
   "source": [
    "def calculo_porcentaje(nucleotido, secuencia):\n",
    "    if nucleotido not in \"ATGC\":\n",
    "        raise ValueError(\"Nucleótido inválido. Debe ser A, T, G o C.\")\n",
    "    \n",
    "    conteo = secuencia.count(nucleotido)\n",
    "    porcentaje = (conteo / len(secuencia)) * 100\n",
    "    \n",
    "    return round(porcentaje, 1)\n",
    "\n",
    "assert calculo_porcentaje(\"A\", secuencia) == 29.2\n",
    "assert calculo_porcentaje(\"T\", secuencia) == 30.5\n",
    "assert calculo_porcentaje(\"G\", secuencia) == 22.0\n",
    "assert calculo_porcentaje(\"C\", secuencia) == 18.3\n",
    "\n",
    "print(\"Porcentaje calculado correctamente.\")"
   ]
  },
  {
   "cell_type": "markdown",
   "id": "a28888dd",
   "metadata": {},
   "source": [
    "#### 6.- Devuelve la secuencia de ARN que surgiría a partir de la siguiente secuencia. Recuerda que la secuencia de ARN resultante tiene que ser complementaria a la de ADN y además, hay que cambiar un nucleótido. (1 pto)"
   ]
  },
  {
   "cell_type": "code",
   "execution_count": 75,
   "id": "b27feabb",
   "metadata": {},
   "outputs": [
    {
     "name": "stdout",
     "output_type": "stream",
     "text": [
      "Secuencia de ARN: UACGAAACCUGUCUGACGAAUUGAGCGAACGCUGUUCUCGAGAGACUAUUGCAGAAACGCUACACCUAAGCGGGAAAUCAUCGACUUCUUCAUCUCCCCUAUGAUGCAGAGAUACGAGGAUUAGGAAUAACCUGCGCAAUAUAAGUUCUCUUAGUAAAUCUCAAUUAAAGAUAUAACCGACUUGUUAACAGUCUUCCCGCCCACGCAGUCCAACUUUAGAACCAUCUAAGAGCAGGACCAUCAUAAAACAGAAGAUCACUUGUCGGACGUUGUUGAUGUCGUCGAAAUGUUUGACGGGGAUAUGGAGUUGGACGAUUCCAAUUUUCUCUUGGCCUUGGACAACGAUUAUGACGUCAAUCAAGAUUCUCAAGUUUUUUCUUUGAUAAUUUAGGUGUUAAAUGAAAAAGUGAUAAACAACUUCCGGCAAGAUUGGUUUACCGUCGUCUUUGGACAUCUUUUCAUAAUUGUGUCAAUCCACGAAGAGUUGUAUUGGGAAACAAAAAUAUACCAGGCUGUCCAGAUCCAUUCUGAGUGAAUUACGUUCGUCAACCAUUACGGGAUGACGUUCGCUUCGGCUUACGUUCUCAGUACAUAUACUGAAGUCUUUCAAAACAUGUUCUAAAACACUCGAGUAAUGUUUUUCCUUUCCAUCUUCUCAAAUUCUUUUUAACGGCAAGAAAUCUGAACAAUAAUCAUCUACUAUAAGUAGAAAACCGUCCUUUUCUUCGUUCAGAGCAACUUAAGAAGAUAUGUAAAUUACGGAAUGAACUACUUAGAUUUGUUUAAUAAAAUUGCAGACUAGCUAUAGGAUUUCUUAAUUGUCUUGAACUAGGAGCUAACCAAAGAGCAAAAAGGACCCCCGAUAGUCAUCCACAACUUGGUGGACUAUAACUUUGAGCUUAGCUUUAAGACGAAUUUUUUCGACUUUUAUCACCGCAACUAAAUGGAUCUUUGACACGCAACAAAUAACGGGUUGUUCAGCAUCGCUUGCAUGCACUUGAACUCCCGCGUGACUUAUUUCAACAGCGUUAAAGUGCAAAAUUUCCACGAGGUUAACUGGACCUACAGCAUGCCCUUAGAAAUUUUCUACAAAAUCGCUAGGCACGAGCAUGUUAAUCACAUCUUUUAUAGGUCGCACAUCACUCACUUAUAAAGGCUUAAGGUAAUUUUCUCGACCAUCCAGGUUUCGCAUGGGCUUAAAUACGAGCUGGUGCAGUCAACCGCUACCCCGAACGGGCACUUAAUUGCCCCCUAUCAAAAGGACUUUAACCUUACCGAAAACCACCCGCACUAGUGUCAUGUCACUACGUACGAACACUUUUUCAGCAG\n"
     ]
    }
   ],
   "source": [
    "def adn_a_arn(cadena_adn):\n",
    "    complementos = {'A': 'U', 'T': 'A', 'G': 'C', 'C': 'G'}\n",
    "    cadena_arn = ''.join(complementos[base] for base in cadena_adn)\n",
    "    return cadena_arn\n",
    "\n",
    "secuencia_arn = adn_a_arn(secuencia)\n",
    "print(f\"Secuencia de ARN: {secuencia_arn}\")"
   ]
  },
  {
   "cell_type": "markdown",
   "id": "9f94d5dd",
   "metadata": {},
   "source": [
    "#### 7.- Realiza una función que realice una digestión con las siguientes enzimas de restricción en nuestra secuencia. La función tiene que devolver la siguiente información: (2 pto)\n",
    "1. Enzimas que tienen sitios de corte en la secuencia y posición (o posiciones de corte)\n",
    "2. Enzimas que no tienen sitios de corte (si las hay)\n",
    "3. Resultado de la digestión: los fragmentos resultantes de nuestra secuencia\n",
    "4. Indicar número y tamaño de cada fragmento"
   ]
  },
  {
   "cell_type": "code",
   "execution_count": null,
   "id": "1cab833c",
   "metadata": {},
   "outputs": [],
   "source": [
    "enzR = {\n",
    "    'HindIII' : 'A*AGCTT',\n",
    "    'BamHI' : 'G*GATCC',\n",
    "    'AluI' : 'AG*CT',\n",
    "    'Sau3AI' : '*GATC',\n",
    "    'EcoRI' : 'G*AATTC'\n",
    "}"
   ]
  },
  {
   "cell_type": "code",
   "execution_count": 79,
   "id": "acacc979-88b4-4004-9ffa-4d4a4bb6bd49",
   "metadata": {},
   "outputs": [
    {
     "name": "stdout",
     "output_type": "stream",
     "text": [
      "Enzimas con corte y posiciones: {'AluI': [38, 81, 282, 628, 921, 1172], 'Sau3AI': [799, 829, 1098, 1291], 'EcoRI': [739, 1157]}\n",
      "Enzimas sin corte: ['HindIII', 'BamHI']\n",
      "Fragmentos resultantes:\n",
      "Fragmento 1: \n",
      "ATGCTTTGGACAGACTGCTTAACTCGCTTGCGACAAG\n",
      "Fragmento 2: AGCTCTCTGATAACGTCTTTGCGATGTGGATTCGCCCTTTAGT\n",
      "Fragmento 3: AGCTGAAGAAGTAGAGGGGATACTACGTCTCTATGCTCCTAATCCTTATTGGACGCGTTATATTCAAGAGAATCATTTAGAGTTAATTTCTATATTGGCTGAACAATTGTCAGAAGGGCGGGTGCGTCAGGTTGAAATCTTGGTAGATTCTCGTCCTGGTAGTATTTTGTCTTCTAGTGAACAGCCTGCAACAACTACAGC\n",
      "Fragmento 4: AGCTTTACAAACTGCCCCTATACCTCAACCTGCTAAGGTTAAAAGAGAACCGGAACCTGTTGCTAATACTGCAGTTAGTTCTAAGAGTTCAAAAAAGAAACTATTAAATCCACAATTTACTTTTTCACTATTTGTTGAAGGCCGTTCTAACCAAATGGCAGCAGAAACCTGTAGAAAAGTATTAACACAGTTAGGTGCTTCTCAACATAACCCTTTGTTTTTATATGGTCCGACAGGTCTAGGTAAGACTCACTTAATGCAAGCAGTTGGTAATGCCCTACTGCAAGCGAAGCCGAATGCAAGAGTCATGTATATGACTTCAGAAAGTTTTGTACAAGATTTTGTG\n",
      "Fragmento 5: AGCTCATTACAAAAAGGAAAGGTAGAAGAGTTTAAGAAAAATTGCCGTTCTTTAGACTTGTTATTAGTAGATGATATTCATCTTTTGGCAGGAAAAGAAGCAAGTCTCGTT\n",
      "Fragmento 6: GAATTCTTCTATACATTTAATGCCTTACTTGATGAATCTAAACAAATTATTTTAACGTCT\n",
      "Fragmento 7: GATCGATATCCTAAAGAATTAACAGAACTT\n",
      "Fragmento 8: GATCCTCGATTGGTTTCTCGTTTTTCCTGGGGGCTATCAGTAGGTGTTGAACCACCTGATATTGAAACTCGAATCGAAATTCTGCTTAAAAA\n",
      "Fragmento 9: AGCTGAAAATAGTGGCGTTGATTTACCTAGAAACTGTGCGTTGTTTATTGCCCAACAAGTCGTAGCGAACGTACGTGAACTTGAGGGCGCACTGAATAAAGTTGTCGCAATTTCACGTTTTAAAGGTGCTCCAATTGACCTGGATGTCGTACGGGAATCTTTAAAAGATGTTTTAGC\n",
      "Fragmento 10: GATCCGTGCTCGTACAATTAGTGTAGAAAATATCCAGCGTGTAGTGAGTGAATATTTCC\n",
      "Fragmento 11: GAATTCCATTAAAAG\n",
      "Fragmento 12: AGCTGGTAGGTCCAAAGCGTACCCGAATTTATGCTCGACCACGTCAGTTGGCGATGGGGCTTGCCCGTGAATTAACGGGGGATAGTTTTCCTGAAATTGGAATGGCTTTTGGTGGGCGT\n",
      "Fragmento 13: GATCACAGTACAGTGATGCATGCTTGTGAAAAAGTCGTC\n",
      "\n",
      "Tamaño de los fragmentos: [38, 43, 201, 346, 111, 60, 30, 92, 177, 59, 15, 119, 40]\n",
      "Número total de fragmentos: 13\n"
     ]
    }
   ],
   "source": [
    "import re\n",
    "\n",
    "enzimas = {\n",
    "    \"HindIII\": \"AAGCTT\",\n",
    "    \"BamHI\": \"GGATCC\",\n",
    "    \"AluI\": \"AGCT\",\n",
    "    \"Sau3AI\": \"GATC\",\n",
    "    \"EcoRI\": \"GAATTC\"\n",
    "}\n",
    "\n",
    "cadena_adn = \"\"\"\n",
    "ATGCTTTGGACAGACTGCTTAACTCGCTTGCGACAAGAGCTCTCTGATAACGTCTTTGCGATGTGGATTCGCCCTTTAGTAGCTGAAGAAGTAGAGGGGATACTACGTCTCTATGCTCCTAATCCTTATTGGACGCGTTATATTCAAGAGAATCATTTAGAGTTAATTTCTATATTGGCTGAACAATTGTCAGAAGGGCGGGTGCGTCAGGTTGAAATCTTGGTAGATTCTCGTCCTGGTAGTATTTTGTCTTCTAGTGAACAGCCTGCAACAACTACAGCAGCTTTACAAACTGCCCCTATACCTCAACCTGCTAAGGTTAAAAGAGAACCGGAACCTGTTGCTAATACTGCAGTTAGTTCTAAGAGTTCAAAAAAGAAACTATTAAATCCACAATTTACTTTTTCACTATTTGTTGAAGGCCGTTCTAACCAAATGGCAGCAGAAACCTGTAGAAAAGTATTAACACAGTTAGGTGCTTCTCAACATAACCCTTTGTTTTTATATGGTCCGACAGGTCTAGGTAAGACTCACTTAATGCAAGCAGTTGGTAATGCCCTACTGCAAGCGAAGCCGAATGCAAGAGTCATGTATATGACTTCAGAAAGTTTTGTACAAGATTTTGTGAGCTCATTACAAAAAGGAAAGGTAGAAGAGTTTAAGAAAAATTGCCGTTCTTTAGACTTGTTATTAGTAGATGATATTCATCTTTTGGCAGGAAAAGAAGCAAGTCTCGTTGAATTCTTCTATACATTTAATGCCTTACTTGATGAATCTAAACAAATTATTTTAACGTCTGATCGATATCCTAAAGAATTAACAGAACTTGATCCTCGATTGGTTTCTCGTTTTTCCTGGGGGCTATCAGTAGGTGTTGAACCACCTGATATTGAAACTCGAATCGAAATTCTGCTTAAAAAAGCTGAAAATAGTGGCGTTGATTTACCTAGAAACTGTGCGTTGTTTATTGCCCAACAAGTCGTAGCGAACGTACGTGAACTTGAGGGCGCACTGAATAAAGTTGTCGCAATTTCACGTTTTAAAGGTGCTCCAATTGACCTGGATGTCGTACGGGAATCTTTAAAAGATGTTTTAGCGATCCGTGCTCGTACAATTAGTGTAGAAAATATCCAGCGTGTAGTGAGTGAATATTTCCGAATTCCATTAAAAGAGCTGGTAGGTCCAAAGCGTACCCGAATTTATGCTCGACCACGTCAGTTGGCGATGGGGCTTGCCCGTGAATTAACGGGGGATAGTTTTCCTGAAATTGGAATGGCTTTTGGTGGGCGTGATCACAGTACAGTGATGCATGCTTGTGAAAAAGTCGTC\n",
    "\"\"\"\n",
    "\n",
    "def digerir_secuencia(secuencia, enzimas):\n",
    "    enzimas_con_corte = {}\n",
    "    enzimas_sin_corte = []\n",
    "    fragmentos_resultantes = []\n",
    "\n",
    "    for nombre, sitio in enzimas.items():\n",
    "        posiciones = [m.start() for m in re.finditer(sitio, secuencia)]\n",
    "        if posiciones:\n",
    "            enzimas_con_corte[nombre] = posiciones\n",
    "        else:\n",
    "            enzimas_sin_corte.append(nombre)\n",
    "\n",
    "    if enzimas_con_corte:\n",
    "        posiciones_corte = sorted(\n",
    "            [pos for posiciones in enzimas_con_corte.values() for pos in posiciones]\n",
    "        )\n",
    "        posiciones_corte = [0] + posiciones_corte + [len(secuencia)]\n",
    "        for i in range(len(posiciones_corte) - 1):\n",
    "            fragmento = secuencia[posiciones_corte[i] : posiciones_corte[i + 1]]\n",
    "            fragmentos_resultantes.append(fragmento)\n",
    "\n",
    "    tamanos_fragmentos = [len(frag) for frag in fragmentos_resultantes]\n",
    "\n",
    "    return {\n",
    "        \"Enzimas con corte\": enzimas_con_corte,\n",
    "        \"Enzimas sin corte\": enzimas_sin_corte,\n",
    "        \"Fragmentos resultantes\": fragmentos_resultantes,\n",
    "        \"Número y tamaños de fragmentos\": tamanos_fragmentos,\n",
    "    }\n",
    "\n",
    "resultados = digerir_secuencia(cadena_adn, enzimas)\n",
    "\n",
    "print(\"Enzimas con corte y posiciones:\", resultados[\"Enzimas con corte\"])\n",
    "print(\"Enzimas sin corte:\", resultados[\"Enzimas sin corte\"])\n",
    "print(\"Fragmentos resultantes:\")\n",
    "for i, fragmento in enumerate(resultados[\"Fragmentos resultantes\"]):\n",
    "    print(f\"Fragmento {i + 1}: {fragmento}\")\n",
    "print(\"Tamaño de los fragmentos:\", resultados[\"Número y tamaños de fragmentos\"])\n",
    "print(\"Número total de fragmentos:\", len(resultados[\"Fragmentos resultantes\"]))\n"
   ]
  },
  {
   "cell_type": "code",
   "execution_count": 87,
   "id": "391eb01a-18d9-4a22-954d-c4b572497f18",
   "metadata": {},
   "outputs": [
    {
     "name": "stdout",
     "output_type": "stream",
     "text": [
      "Enzimas con corte y posiciones: {'AluI': [38, 81, 282, 628, 921, 1172], 'Sau3AI': [799, 829, 1098, 1291], 'EcoRI': [739, 1157]}\n",
      "Enzimas sin corte: ['HindIII', 'BamHI']\n",
      "Fragmentos resultantes:\n",
      "Fragmento 1: \n",
      "ATGCTTTGGACAGACTGCTTAACTCGCTTGCGACAAG\n",
      "Fragmento 2: AGCTCTCTGATAACGTCTTTGCGATGTGGATTCGCCCTTTAGT\n",
      "Fragmento 3: AGCTGAAGAAGTAGAGGGGATACTACGTCTCTATGCTCCTAATCCTTATTGGACGCGTTATATTCAAGAGAATCATTTAGAGTTAATTTCTATATTGGCTGAACAATTGTCAGAAGGGCGGGTGCGTCAGGTTGAAATCTTGGTAGATTCTCGTCCTGGTAGTATTTTGTCTTCTAGTGAACAGCCTGCAACAACTACAGC\n",
      "Fragmento 4: AGCTTTACAAACTGCCCCTATACCTCAACCTGCTAAGGTTAAAAGAGAACCGGAACCTGTTGCTAATACTGCAGTTAGTTCTAAGAGTTCAAAAAAGAAACTATTAAATCCACAATTTACTTTTTCACTATTTGTTGAAGGCCGTTCTAACCAAATGGCAGCAGAAACCTGTAGAAAAGTATTAACACAGTTAGGTGCTTCTCAACATAACCCTTTGTTTTTATATGGTCCGACAGGTCTAGGTAAGACTCACTTAATGCAAGCAGTTGGTAATGCCCTACTGCAAGCGAAGCCGAATGCAAGAGTCATGTATATGACTTCAGAAAGTTTTGTACAAGATTTTGTG\n",
      "Fragmento 5: AGCTCATTACAAAAAGGAAAGGTAGAAGAGTTTAAGAAAAATTGCCGTTCTTTAGACTTGTTATTAGTAGATGATATTCATCTTTTGGCAGGAAAAGAAGCAAGTCTCGTT\n",
      "Fragmento 6: GAATTCTTCTATACATTTAATGCCTTACTTGATGAATCTAAACAAATTATTTTAACGTCT\n",
      "Fragmento 7: GATCGATATCCTAAAGAATTAACAGAACTT\n",
      "Fragmento 8: GATCCTCGATTGGTTTCTCGTTTTTCCTGGGGGCTATCAGTAGGTGTTGAACCACCTGATATTGAAACTCGAATCGAAATTCTGCTTAAAAA\n",
      "Fragmento 9: AGCTGAAAATAGTGGCGTTGATTTACCTAGAAACTGTGCGTTGTTTATTGCCCAACAAGTCGTAGCGAACGTACGTGAACTTGAGGGCGCACTGAATAAAGTTGTCGCAATTTCACGTTTTAAAGGTGCTCCAATTGACCTGGATGTCGTACGGGAATCTTTAAAAGATGTTTTAGC\n",
      "Fragmento 10: GATCCGTGCTCGTACAATTAGTGTAGAAAATATCCAGCGTGTAGTGAGTGAATATTTCC\n",
      "Fragmento 11: GAATTCCATTAAAAG\n",
      "Fragmento 12: AGCTGGTAGGTCCAAAGCGTACCCGAATTTATGCTCGACCACGTCAGTTGGCGATGGGGCTTGCCCGTGAATTAACGGGGGATAGTTTTCCTGAAATTGGAATGGCTTTTGGTGGGCGT\n",
      "Fragmento 13: GATCACAGTACAGTGATGCATGCTTGTGAAAAAGTCGTC\n",
      "\n",
      "Tamaño de los fragmentos: [38, 43, 201, 346, 111, 60, 30, 92, 177, 59, 15, 119, 40]\n",
      "Número total de fragmentos: 13\n"
     ]
    }
   ],
   "source": [
    "#Probamos la función que he hemos creado \n",
    "resultados = digerir_secuencia(cadena_adn, enzimas)\n",
    "\n",
    "print(\"Enzimas con corte y posiciones:\", resultados[\"Enzimas con corte\"])\n",
    "print(\"Enzimas sin corte:\", resultados[\"Enzimas sin corte\"])\n",
    "print(\"Fragmentos resultantes:\")\n",
    "for i, fragmento in enumerate(resultados[\"Fragmentos resultantes\"]):\n",
    "    print(f\"Fragmento {i + 1}: {fragmento}\")\n",
    "print(\"Tamaño de los fragmentos:\", resultados[\"Número y tamaños de fragmentos\"])\n",
    "print(\"Número total de fragmentos:\", len(resultados[\"Fragmentos resultantes\"]))"
   ]
  },
  {
   "cell_type": "markdown",
   "id": "cae3c937",
   "metadata": {},
   "source": [
    "#### 8.- Realiza una función que mediante la introducción de una secuencia de ADN devuelva lo siguiente: (2pto)\n",
    "1. La secuencia traducida de proteína\n",
    "2. La longitud de la secuencia de ADN original y la longitud de la secuencia de proteínas final\n",
    "3. El porcentaje de aminoácidos aromáticos (en conjunto y por separado)\n"
   ]
  },
  {
   "cell_type": "code",
   "execution_count": 93,
   "id": "47a24862-e1a8-48e3-a732-ca58c72f9370",
   "metadata": {},
   "outputs": [
    {
     "name": "stdout",
     "output_type": "stream",
     "text": [
      "MLWTDCLTRLRQELSDNVFAMWIRPLVAEEVEGILRLYAPNPYWTRYIQENHLELISILAEQLSEGRVRQVEILVDSRPGSILSSSEQPATTTAALQTAPIPQPAKVKREPEPVANTAVSSKSSKKKLLNPQFTFSLFVEGRSNQMAAETCRKVLTQLGASQHNPLFLYGPTGLGKTHLMQAVGNALLQAKPNARVMYMTSESFVQDFVSSLQKGKVEEFKKNCRSLDLLLVDDIHLLAGKEASLVEFFYTFNALLDESKQIILTSDRYPKELTELDPRLVSRFSWGLSVGVEPPDIETRIEILLKKAENSGVDLPRNCALFIAQQVVANVRELEGALNKVVAISRFKGAPIDLDVVRESLKDVLAIRARTISVENIQRVVSEYFRIPLKELVGPKRTRIYARPRQLAMGLARELTGDSFPEIGMAFGGRDHSTVMHACEKVV\n",
      "La longitud total de la secuencia traducida a proteínas es 443\n",
      "La longitud total de la secuencia de DNA original es 1329\n",
      "El porcentaje total de Tirosina es 0.68%\n",
      "El porcentaje total de Fenilalanina es 1.28%\n",
      "El porcentaje total de Triptófano es 0.3%\n",
      "El porcentaje total de aminoácidos aromáticos es 2.26%\n"
     ]
    }
   ],
   "source": [
    "codon_table = {\n",
    "    'TTT': 'F', 'TTC': 'F', 'TTA': 'L', 'TTG': 'L',\n",
    "    'CTT': 'L', 'CTC': 'L', 'CTA': 'L', 'CTG': 'L',\n",
    "    'ATT': 'I', 'ATC': 'I', 'ATA': 'I', 'ATG': 'M',\n",
    "    'GTT': 'V', 'GTC': 'V', 'GTA': 'V', 'GTG': 'V',\n",
    "    'TCT': 'S', 'TCC': 'S', 'TCA': 'S', 'TCG': 'S',\n",
    "    'CCT': 'P', 'CCC': 'P', 'CCA': 'P', 'CCG': 'P',\n",
    "    'ACT': 'T', 'ACC': 'T', 'ACA': 'T', 'ACG': 'T',\n",
    "    'GCT': 'A', 'GCC': 'A', 'GCA': 'A', 'GCG': 'A',\n",
    "    'TAT': 'Y', 'TAC': 'Y', 'TAA': '_', 'TAG': '_',\n",
    "    'CAT': 'H', 'CAC': 'H', 'CAA': 'Q', 'CAG': 'Q',\n",
    "    'AAT': 'N', 'AAC': 'N', 'AAA': 'K', 'AAG': 'K',\n",
    "    'GAT': 'D', 'GAC': 'D', 'GAA': 'E', 'GAG': 'E',\n",
    "    'TGT': 'C', 'TGC': 'C', 'TGA': '_', 'TGG': 'W',\n",
    "    'CGT': 'R', 'CGC': 'R', 'CGA': 'R', 'CGG': 'R',\n",
    "    'AGT': 'S', 'AGC': 'S', 'AGA': 'R', 'AGG': 'R',\n",
    "    'GGT': 'G', 'GGC': 'G', 'GGA': 'G', 'GGG': 'G',\n",
    "}\n",
    "\n",
    "def traducir_secuencia(secuencia, proteinas):\n",
    "    inicio_secuencia = secuencia.find(\"ATG\")\n",
    "    secuencia_proteina = \"\"\n",
    "    for i in range(inicio_secuencia, len(secuencia), 3):\n",
    "        proteina = proteinas[secuencia[i:i+3]]\n",
    "        secuencia_proteina = secuencia_proteina + proteina\n",
    "    print(secuencia_proteina)\n",
    "    print(f\"La longitud total de la secuencia traducida a proteínas es {len(secuencia_proteina)}\")\n",
    "    print(f\"La longitud total de la secuencia de DNA original es {len(secuencia)}\")\n",
    "    aromatico_y = round(secuencia_proteina.count(\"Y\") / len(secuencia) * 100, 2)\n",
    "    aromatico_f = round(secuencia_proteina.count(\"F\") / len(secuencia) * 100, 2)\n",
    "    aromatico_w = round(secuencia_proteina.count(\"W\") / len(secuencia) * 100, 2)\n",
    "    print(f\"El porcentaje total de Tirosina es {aromatico_y}%\")\n",
    "    print(f\"El porcentaje total de Fenilalanina es {aromatico_f}%\")\n",
    "    print(f\"El porcentaje total de Triptófano es {aromatico_w}%\")\n",
    "    print(f\"El porcentaje total de aminoácidos aromáticos es {aromatico_y + aromatico_f + aromatico_w}%\")\n",
    "\n",
    "traducir_secuencia(secuencia, codon_table)"
   ]
  }
 ],
 "metadata": {
  "kernelspec": {
   "display_name": "Python 3 (ipykernel)",
   "language": "python",
   "name": "python3"
  },
  "language_info": {
   "codemirror_mode": {
    "name": "ipython",
    "version": 3
   },
   "file_extension": ".py",
   "mimetype": "text/x-python",
   "name": "python",
   "nbconvert_exporter": "python",
   "pygments_lexer": "ipython3",
   "version": "3.12.4"
  }
 },
 "nbformat": 4,
 "nbformat_minor": 5
}
